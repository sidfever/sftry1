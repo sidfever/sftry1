{
 "metadata": {
  "kernelspec": {
   "display_name": "Streamlit Notebook",
   "name": "streamlit"
  }
 },
 "nbformat_minor": 5,
 "nbformat": 4,
 "cells": [
  {
   "cell_type": "code",
   "id": "b88b2dec-eeaa-4f2f-afdf-e91a52c537e0",
   "metadata": {
    "language": "python",
    "name": "cell4",
    "collapsed": false,
    "resultHeight": 0
   },
   "outputs": [],
   "source": "import basefile as bs",
   "execution_count": null
  },
  {
   "cell_type": "code",
   "id": "e53e6c38-da5c-4a81-b487-68130ed96aa4",
   "metadata": {
    "language": "python",
    "name": "cell1",
    "collapsed": false,
    "resultHeight": 38
   },
   "outputs": [],
   "source": "bs.basefunc()",
   "execution_count": null
  }
 ]
}